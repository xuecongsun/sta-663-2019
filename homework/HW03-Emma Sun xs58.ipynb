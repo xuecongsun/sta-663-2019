{
 "cells": [
  {
   "cell_type": "code",
   "execution_count": 1,
   "metadata": {},
   "outputs": [],
   "source": [
    "%matplotlib inline\n",
    "\n",
    "import numpy as np\n",
    "import pandas as pd\n",
    "import matplotlib as mpl\n",
    "import matplotlib.pyplot as plt\n",
    "import seaborn as sns\n",
    "\n",
    "sns.set_context('notebook', font_scale=1.5)"
   ]
  },
  {
   "cell_type": "code",
   "execution_count": 2,
   "metadata": {},
   "outputs": [],
   "source": [
    "import warnings\n",
    "warnings.simplefilter('ignore', FutureWarning)"
   ]
  },
  {
   "cell_type": "markdown",
   "metadata": {},
   "source": [
    "**1**. (25 points)\n",
    "\n",
    "In this exercise, we will practice using Pandas dataframes to explore and summarize a data set `heart`.\n",
    "\n",
    "This data contains the survival time after receiving a heart transplant, the age of the patient and whether or not the survival time was censored\n",
    "\n",
    "- Number of Observations - 69\n",
    "- Number of Variables - 3\n",
    "\n",
    "Variable name definitions::\n",
    "\n",
    "- survival - Days after surgery until death\n",
    "- censors - indicates if an observation is censored. 1 is uncensored\n",
    "- age - age at the time of surgery\n",
    "\n",
    "Answer the following questions (5 points each) with respect to the `heart` data set:\n",
    "\n",
    "- How many patients were censored?\n",
    "- What is the correlation coefficient between age and survival for uncensored patients? \n",
    "- What is the average age for censored and uncensored patients?\n",
    "- What is the average survival time for censored and uncensored patients under the age of 45?\n",
    "- What is the survival time of the youngest and oldest uncensored patient?\n"
   ]
  },
  {
   "cell_type": "code",
   "execution_count": 4,
   "metadata": {},
   "outputs": [
    {
     "data": {
      "text/html": [
       "<div>\n",
       "<style scoped>\n",
       "    .dataframe tbody tr th:only-of-type {\n",
       "        vertical-align: middle;\n",
       "    }\n",
       "\n",
       "    .dataframe tbody tr th {\n",
       "        vertical-align: top;\n",
       "    }\n",
       "\n",
       "    .dataframe thead th {\n",
       "        text-align: right;\n",
       "    }\n",
       "</style>\n",
       "<table border=\"1\" class=\"dataframe\">\n",
       "  <thead>\n",
       "    <tr style=\"text-align: right;\">\n",
       "      <th></th>\n",
       "      <th>survival</th>\n",
       "      <th>censors</th>\n",
       "      <th>age</th>\n",
       "    </tr>\n",
       "  </thead>\n",
       "  <tbody>\n",
       "    <tr>\n",
       "      <th>0</th>\n",
       "      <td>15.0</td>\n",
       "      <td>1.0</td>\n",
       "      <td>54.3</td>\n",
       "    </tr>\n",
       "    <tr>\n",
       "      <th>1</th>\n",
       "      <td>3.0</td>\n",
       "      <td>1.0</td>\n",
       "      <td>40.4</td>\n",
       "    </tr>\n",
       "    <tr>\n",
       "      <th>2</th>\n",
       "      <td>624.0</td>\n",
       "      <td>1.0</td>\n",
       "      <td>51.0</td>\n",
       "    </tr>\n",
       "    <tr>\n",
       "      <th>3</th>\n",
       "      <td>46.0</td>\n",
       "      <td>1.0</td>\n",
       "      <td>42.5</td>\n",
       "    </tr>\n",
       "    <tr>\n",
       "      <th>4</th>\n",
       "      <td>127.0</td>\n",
       "      <td>1.0</td>\n",
       "      <td>48.0</td>\n",
       "    </tr>\n",
       "    <tr>\n",
       "      <th>5</th>\n",
       "      <td>64.0</td>\n",
       "      <td>1.0</td>\n",
       "      <td>54.6</td>\n",
       "    </tr>\n",
       "  </tbody>\n",
       "</table>\n",
       "</div>"
      ],
      "text/plain": [
       "   survival  censors   age\n",
       "0      15.0      1.0  54.3\n",
       "1       3.0      1.0  40.4\n",
       "2     624.0      1.0  51.0\n",
       "3      46.0      1.0  42.5\n",
       "4     127.0      1.0  48.0\n",
       "5      64.0      1.0  54.6"
      ]
     },
     "execution_count": 4,
     "metadata": {},
     "output_type": "execute_result"
    }
   ],
   "source": [
    "import statsmodels.api as sm\n",
    "heart = sm.datasets.heart.load_pandas().data\n",
    "heart.head(n=6)"
   ]
  },
  {
   "cell_type": "code",
   "execution_count": 21,
   "metadata": {},
   "outputs": [
    {
     "name": "stdout",
     "output_type": "stream",
     "text": [
      "24 patients were censored\n"
     ]
    }
   ],
   "source": [
    "# How many patients were censored?\n",
    "number_censored = heart.groupby('censors').size()[0]\n",
    "print(\"{} patients were censored\".format(number_censored))\n"
   ]
  },
  {
   "cell_type": "code",
   "execution_count": 31,
   "metadata": {},
   "outputs": [
    {
     "name": "stdout",
     "output_type": "stream",
     "text": [
      "0.003256499283211932 is the correlation coefficient between age and survival for uncensored patients\n"
     ]
    }
   ],
   "source": [
    "#correlation ccoefficient between age and survivial for uncensored patients\n",
    "\n",
    "#Select uncensored patients\n",
    "uncensored = heart[heart.censors == 1]\n",
    "uncensored = uncensored.drop(['censors'],axis=1)\n",
    "corr = uncensored.age.corr(uncensored.survival)\n",
    "print(\"{} is the correlation coefficient between age and survival for uncensored patients\".format(corr))"
   ]
  },
  {
   "cell_type": "code",
   "execution_count": 37,
   "metadata": {},
   "outputs": [
    {
     "data": {
      "text/plain": [
       "censors\n",
       "0.0    41.729167\n",
       "1.0    48.484444\n",
       "Name: age, dtype: float64"
      ]
     },
     "execution_count": 37,
     "metadata": {},
     "output_type": "execute_result"
    }
   ],
   "source": [
    "#What is the average age for censored and uncensored patients?\n",
    "censor_group = heart.groupby('censors')\n",
    "ave_age = censor_group.age.mean()\n",
    "ave_age"
   ]
  },
  {
   "cell_type": "code",
   "execution_count": 44,
   "metadata": {},
   "outputs": [
    {
     "data": {
      "text/plain": [
       "censors\n",
       "0.0    712.818182\n",
       "1.0    169.909091\n",
       "Name: survival, dtype: float64"
      ]
     },
     "execution_count": 44,
     "metadata": {},
     "output_type": "execute_result"
    }
   ],
   "source": [
    "#what is the average survival time for censored and uncensored patients under the age of 45?\n",
    "age_filtered = heart[heart.age<45]\n",
    "age_filtered.groupby('censors').survival.mean()"
   ]
  },
  {
   "cell_type": "code",
   "execution_count": 67,
   "metadata": {},
   "outputs": [
    {
     "name": "stdout",
     "output_type": "stream",
     "text": [
      "survival time for oldest uncensored patient is as below:\n",
      "[60.]\n",
      "survival time for oldest uncensored patient is as below:\n",
      "[228.]\n"
     ]
    }
   ],
   "source": [
    "#What is the survival time of the youngest and oldest uncensored patient?\n",
    "survival_time_oldest = heart[heart.age == uncensored.age.max()].survival.values\n",
    "\n",
    "survival_time_youngest = heart[heart.age == uncensored.age.min()].survival.values\n",
    "\n",
    "print(\"survival time for oldest uncensored patient is as below:\")\n",
    "print(survival_time_oldest)\n",
    "print(\"survival time for oldest uncensored patient is as below:\")\n",
    "print(survival_time_youngest)\n"
   ]
  },
  {
   "cell_type": "markdown",
   "metadata": {},
   "source": [
    "**2**. (35 points)\n",
    "\n",
    "- Consider a sequence of $n$ Bernoulli trials with success probabilty $p$ per trial. A string of consecutive successes is known as a success *run*. Write a function that returns the counts for runs of length $k$ for each $k$ observed in a dictionary. (10 points)\n",
    "\n",
    "For example: if the trials were [0, 1, 0, 1, 1, 0, 0, 0, 0, 1], the function should return \n",
    "```\n",
    "{1: 2, 2: 1})\n",
    "```\n",
    "\n",
    "Test that it does so.\n",
    "\n",
    "- What is the probability of observing at least one run of length 5 or more when $n=100$ and $p=0.5$?. Estimate this from 100,000 simulated experiments. Is this more, less or equally likely than finding runs of length 7 or more when $p=0.7$? (10 points)\n",
    "\n",
    "- There is an exact solution\n",
    "\n",
    "$$\n",
    "s_n = \\sum_{i=1}^n{f_i} \\\\\n",
    "f_n = u_n - \\sum_{i=1}^{n-1} {f_i u_{n-i}} \\\\\n",
    "u_n = p^k - \\sum_{i=1}^{k-1} u_{n-i} p_i\n",
    "$$\n",
    "\n",
    "Implement the exact solution using caching to avoid re-calculations and calculate the same two probabilities found by simulation. (15 points)"
   ]
  },
  {
   "cell_type": "code",
   "execution_count": 408,
   "metadata": {},
   "outputs": [],
   "source": [
    "def successrun(trials):\n",
    "    \"\"\"This function returns a dictionary which contains counts for runs of lenth k for each k observed in a dictionary\"\"\"\n",
    "    \n",
    "    finalresult = {}\n",
    "    count = 0\n",
    "   \n",
    "    \n",
    "    \n",
    "    for i in trials:\n",
    "        if i == 1:\n",
    "            count = count + 1\n",
    "        else:\n",
    "            if count != 0:\n",
    "                finalresult[count] = finalresult.get(count, 0) + 1\n",
    "                count = 0\n",
    "    \n",
    "    if i == 1:\n",
    "        finalresult[count] = finalresult.get(count, 0) + 1\n",
    "    \n",
    "    return finalresult\n",
    "    \n",
    "    \n",
    "\n",
    "\n",
    "    \n",
    "\n",
    "\n",
    "    \n"
   ]
  },
  {
   "cell_type": "code",
   "execution_count": 409,
   "metadata": {},
   "outputs": [
    {
     "name": "stdout",
     "output_type": "stream",
     "text": [
      "[1, 0, 0, 1, 0, 0, 0, 0, 1, 0]\n",
      "{1: 3}\n"
     ]
    }
   ],
   "source": [
    "run = [np.random.binomial(1,0.5) for i in range(10)]\n",
    "\n",
    "print(run)\n",
    "print(successrun(run))\n",
    "\n",
    "\n",
    "\n",
    "        "
   ]
  },
  {
   "cell_type": "code",
   "execution_count": 410,
   "metadata": {},
   "outputs": [],
   "source": [
    "#Simulations\n",
    "\n",
    "def simu(n,p,simulation,k):\n",
    "    count = 0\n",
    "    total = 0\n",
    "    \n",
    "    for i in range(simulation):\n",
    "        series = [np.random.binomial(1,p) for i in range(n)]\n",
    "       \n",
    "        runcount = successrun(series)\n",
    "       \n",
    "        for j in runcount.keys():\n",
    "            if j>=k:\n",
    "                total = total + 1\n",
    "                break\n",
    "     \n",
    "    \n",
    "    return total/simulation\n",
    "            \n",
    "                \n",
    "    "
   ]
  },
  {
   "cell_type": "code",
   "execution_count": 411,
   "metadata": {},
   "outputs": [
    {
     "name": "stdout",
     "output_type": "stream",
     "text": [
      "probability of having at least one run of length 5 or more for n=100 and p=0.5 0.81189\n",
      "probability of having at least one run of length 7 or more for n=100 and p=0.7 0.94919\n"
     ]
    }
   ],
   "source": [
    "print(\"probability of having at least one run of length 5 or more for n=100 and p=0.5\",simu(100,0.5,100000,5))\n",
    "print(\"probability of having at least one run of length 7 or more for n=100 and p=0.7\",simu(100,0.7, 100000,7))"
   ]
  },
  {
   "cell_type": "code",
   "execution_count": 429,
   "metadata": {},
   "outputs": [],
   "source": [
    "from functools import lru_cache\n",
    "\n",
    "@lru_cache()\n",
    "def u(n, k, p):\n",
    "    \"\"\"a recursive function for equation of u\"\"\"\n",
    "    #function returns 0 when the number of bernoulli trials is smaller than target run length\n",
    "    if n < k:\n",
    "        return 0\n",
    "    return p**k - sum(u(n-i, k, p) * p**i for i in range(1, k))\n",
    "\n",
    "@lru_cache()\n",
    "def f(n, k, p):\n",
    "    \"\"\"a recursive function for equation of f \"\"\"\n",
    "    return u(n, k, p) - sum(f(i, k, p) * u(n-i, k, p) for i in range(1, n))\n",
    "\n",
    "\n",
    "@lru_cache() \n",
    "def s(n, k, p):\n",
    "    \"\"\"a recursive function for equation of s\"\"\"\n",
    "    return sum(f(i, k, p) for i in range(1, n+1))\n",
    "\n",
    "\n"
   ]
  },
  {
   "cell_type": "code",
   "execution_count": 430,
   "metadata": {},
   "outputs": [
    {
     "name": "stdout",
     "output_type": "stream",
     "text": [
      "Probability of observing at least one run of length 5 or more for n=100 and p=0.5 0.8101095991963579\n",
      "Probability of observing at least one run of length 7 or more for n=100 and p=0.7 0.9491817984156692\n"
     ]
    }
   ],
   "source": [
    "print(\"Probability of observing at least one run of length 5 or more for n=100 and p=0.5\",s(k=5,n=100,p=.5))\n",
    "print(\"Probability of observing at least one run of length 7 or more for n=100 and p=0.7\",s(k=7,n=100,p=.7))"
   ]
  },
  {
   "cell_type": "markdown",
   "metadata": {},
   "source": [
    "**3**. (40 points)\n",
    "\n",
    "Given matrix $M$\n",
    "```python\n",
    "      [[7, 8, 8],\n",
    "       [1, 3, 8],\n",
    "       [9, 2, 1]]\n",
    "```\n",
    "\n",
    "- Normalize the given matrix $M$ so that all rows sum to 1.0.  (5 points)\n",
    "- The normalized matrix can then be considered as a transition matrix $P$ for a Markov chain. Find the stationary distribution of this matrix in the following ways using `numpy` and `numpy.linalg` (or `scipy.linalg`):\n",
    "    - By repeated matrix multiplication of a random probability vector $v$ (a row vector normalized to sum to 1.0) with $P$ using matrix multiplication with `np.dot`. (5 points)\n",
    "    - By raising the matrix $P$ to some large power until it doesn't change with higher powers (see `np.linalg.matrix_power`) and then calculating $vP$ (10 points)\n",
    "    - From the equation for stationarity $wP = w$, we can see that $w$ must be a left eigenvector of $P$ with eigenvalue $1$ (Note: np.linalg.eig returns the right eigenvectors, but the left eigenvector of a matrix is the right eigenvector of the transposed matrix). Use this to find $w$ using `np.linalg.eig`. (20 points)\n",
    "\n",
    "Suppose $w = (w_1, w_2, w_3)$. Then from $wP = w$, we have:\n",
    "\\begin{align}\n",
    "w_1 P_{11} + w_2 P_{21} + w_3 P_{31} &= w_1 \\\\\n",
    "w_1 P_{12} + w_2 P_{22} + w_3 P_{32} &= w_2 \\\\\n",
    "w_1 P_{13} + w_2 P_{23} + w_3 P_{331} &= w_3 \\\\\n",
    "\\end{align}\n",
    "This is a singular system, but we also know that $w_1 + w_2 + w_3 = 1$. Use these facts to set up a linear system of equations that can be solved with `np.linalg.solve` to find $w$."
   ]
  },
  {
   "cell_type": "code",
   "execution_count": 274,
   "metadata": {},
   "outputs": [
    {
     "data": {
      "text/plain": [
       "array([[0.30434783, 0.34782609, 0.34782609],\n",
       "       [0.08333333, 0.25      , 0.66666667],\n",
       "       [0.75      , 0.16666667, 0.08333333]])"
      ]
     },
     "execution_count": 274,
     "metadata": {},
     "output_type": "execute_result"
    }
   ],
   "source": [
    "#normalize Matrix M\n",
    "matrix = np.array([[7, 8, 8],\n",
    "       [1, 3, 8],\n",
    "       [9, 2, 1]])\n",
    "\n",
    "total = matrix.sum(axis=1).reshape(-1,1)\n",
    "matrix = matrix/total\n",
    "matrix\n",
    "\n",
    "\n",
    "\n",
    "\n"
   ]
  },
  {
   "cell_type": "code",
   "execution_count": 275,
   "metadata": {},
   "outputs": [
    {
     "name": "stdout",
     "output_type": "stream",
     "text": [
      "original v is: \n",
      " [[0.08739819 0.14128984 0.77131197]]\n",
      "stationary v is: \n",
      " [[0.39862184 0.2605972  0.34078096]]\n"
     ]
    }
   ],
   "source": [
    "#part 1\n",
    "v = np.random.random([1,3])\n",
    "totalv = v.sum()\n",
    "v = v/totalv\n",
    "print(\"original v is: \\n {}\".format(v))\n",
    "\n",
    "vold = v\n",
    "vnew = np.dot(vold, matrix)\n",
    "roundno = 0\n",
    "\n",
    "while (vold == vnew).all() == False:\n",
    "    vold = vnew\n",
    "    vnew = np.dot(vold,matrix)\n",
    "    roundno = roundno + 1\n",
    "\n",
    "    \n",
    "print(\"stationary v is: \\n {}\".format(vnew))\n",
    "\n",
    "\n",
    "    \n",
    "    \n",
    "\n",
    "\n",
    "\n"
   ]
  },
  {
   "cell_type": "code",
   "execution_count": 276,
   "metadata": {},
   "outputs": [
    {
     "name": "stdout",
     "output_type": "stream",
     "text": [
      "stationary matrix P is: \n",
      " [[0.39862184 0.2605972  0.34078096]\n",
      " [0.39862184 0.2605972  0.34078096]\n",
      " [0.39862184 0.2605972  0.34078096]]\n",
      "Product vP is: \n",
      " [[0.39862184 0.2605972  0.34078096]]\n"
     ]
    }
   ],
   "source": [
    "#part 2\n",
    "tol = 1e-06\n",
    "matrixold = matrix\n",
    "matrixnew = np.linalg.matrix_power(matrix,2)\n",
    "power = 2\n",
    "\n",
    "compare = False\n",
    "\n",
    "while (matrixold == matrixnew).all() == False:\n",
    "    matrixold = matrixnew\n",
    "    power = power + 1\n",
    "    matrixnew = np.linalg.matrix_power(matrix, power)\n",
    "  \n",
    "\n",
    "prod = np.dot(vnew, matrixnew)\n",
    "print(\"stationary matrix P is: \\n {}\".format(matrixnew))\n",
    "print(\"Product vP is: \\n {}\".format(prod))\n",
    "\n",
    "\n"
   ]
  },
  {
   "cell_type": "code",
   "execution_count": 301,
   "metadata": {},
   "outputs": [
    {
     "name": "stdout",
     "output_type": "stream",
     "text": [
      "w is [0.39862184 0.2605972  0.34078096]\n"
     ]
    }
   ],
   "source": [
    "#part 3\n",
    "eigenvals,eigenvecs = np.linalg.eig(matrix.T)\n",
    "index = np.where(eigenvals == 1)\n",
    "w = np.real(eigenvecs[:, index]).T.reshape(3,)\n",
    "\n",
    "w = w/w.sum()\n",
    "print(\"w is {}\".format(w))\n"
   ]
  },
  {
   "cell_type": "code",
   "execution_count": 303,
   "metadata": {},
   "outputs": [
    {
     "name": "stdout",
     "output_type": "stream",
     "text": [
      "stationary vector: \n",
      " [0.39862184 0.2605972  0.34078096]\n"
     ]
    }
   ],
   "source": [
    "#part 4\n",
    "C = P.T - np.eye(3)\n",
    "C[2] = [1,1,1]\n",
    "result = np.linalg.solve(C, [0,0,1])\n",
    "print(\"stationary vector: \\n {}\".format(result))"
   ]
  }
 ],
 "metadata": {
  "kernelspec": {
   "display_name": "Python 3",
   "language": "python",
   "name": "python3"
  },
  "language_info": {
   "codemirror_mode": {
    "name": "ipython",
    "version": 3
   },
   "file_extension": ".py",
   "mimetype": "text/x-python",
   "name": "python",
   "nbconvert_exporter": "python",
   "pygments_lexer": "ipython3",
   "version": "3.6.5"
  }
 },
 "nbformat": 4,
 "nbformat_minor": 2
}
