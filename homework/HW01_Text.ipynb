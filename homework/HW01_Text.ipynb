{
 "cells": [
  {
   "cell_type": "markdown",
   "metadata": {},
   "source": [
    "# Homework 01:  Working with text"
   ]
  },
  {
   "cell_type": "markdown",
   "metadata": {},
   "source": [
    "Questions 1-6 use the text in the variable `sentences`."
   ]
  },
  {
   "cell_type": "markdown",
   "metadata": {},
   "source": [
    "`string` and `re` are imported for yoy. You should not use any ohter imports for this exercise."
   ]
  },
  {
   "cell_type": "code",
   "execution_count": 140,
   "metadata": {},
   "outputs": [],
   "source": [
    "import string\n",
    "import re"
   ]
  },
  {
   "cell_type": "code",
   "execution_count": 143,
   "metadata": {},
   "outputs": [],
   "source": [
    "sentences = \"\"\"\n",
    "Eva, Can I Stab Bats In A Cave?\n",
    "This is not a palindrome.\n",
    "Madam In Eden, I'm Adam\n",
    "Neither is this.\n",
    "Mr. Owl Ate My Metal Worm\n",
    "Do you think this is a palindrome?\n",
    "Never Odd Or Even\n",
    "Ouch! That hurts!!\n",
    "Doc, Note: I Dissent. A Fast Never Prevents A Fatness. I Diet On Cod.\n",
    "Pythons eat rats.\n",
    "\"\"\""
   ]
  },
  {
   "cell_type": "markdown",
   "metadata": {},
   "source": [
    "**1**. (10 points)\n",
    "\n",
    "- Write a function to identify palindromes. It should ignore spaces, punctuation and capitalization. "
   ]
  },
  {
   "cell_type": "code",
   "execution_count": 145,
   "metadata": {},
   "outputs": [],
   "source": [
    "def palindetect(stringtest):\n",
    "    #remove punctuation for the string and change to lowercase\n",
    "    stringnew = stringtest.translate(str.maketrans(string.ascii_uppercase, string.ascii_lowercase,string.punctuation))\n",
    "    #remove whitespace\n",
    "    stringnew = ''.join(stringnew.strip().split(' '))\n",
    "    #reverse stringnew and check whether it is the same as stringnew, if yes, it is a palindrome, else no\n",
    "    if stringnew == stringnew[::-1]:\n",
    "        return True\n",
    "    else:\n",
    "        return False"
   ]
  },
  {
   "cell_type": "code",
   "execution_count": 146,
   "metadata": {},
   "outputs": [
    {
     "name": "stdout",
     "output_type": "stream",
     "text": [
      "True\n",
      "False\n"
     ]
    }
   ],
   "source": [
    "status1 = palindetect(\"Eva, Can I Stab Bats In A Cave?\")\n",
    "print(status1)\n",
    "status2 = palindetect('applesfseaf')\n",
    "print(status2)"
   ]
  },
  {
   "cell_type": "markdown",
   "metadata": {},
   "source": [
    "**2**. (10 points)\n",
    "\n",
    "Convert the given sentences into a list, and find the palindromes using\n",
    "\n",
    "- a for loop\n",
    "- a list comprehension\n",
    "- the `filter` higher order function"
   ]
  },
  {
   "cell_type": "code",
   "execution_count": 147,
   "metadata": {},
   "outputs": [
    {
     "name": "stdout",
     "output_type": "stream",
     "text": [
      "['Eva, Can I Stab Bats In A Cave?', \"Madam In Eden, I'm Adam\", 'Mr. Owl Ate My Metal Worm', 'Never Odd Or Even', 'Doc, Note: I Dissent. A Fast Never Prevents A Fatness. I Diet On Cod.']\n",
      "['Eva, Can I Stab Bats In A Cave?', \"Madam In Eden, I'm Adam\", 'Mr. Owl Ate My Metal Worm', 'Never Odd Or Even', 'Doc, Note: I Dissent. A Fast Never Prevents A Fatness. I Diet On Cod.']\n",
      "['Eva, Can I Stab Bats In A Cave?', \"Madam In Eden, I'm Adam\", 'Mr. Owl Ate My Metal Worm', 'Never Odd Or Even', 'Doc, Note: I Dissent. A Fast Never Prevents A Fatness. I Diet On Cod.']\n"
     ]
    }
   ],
   "source": [
    "#strip sentences and split sentences string by \\n\n",
    "sentencessplit = sentences.strip().split('\\n')\n",
    "\n",
    "#using for loop\n",
    "palindromes1 = []\n",
    "for sentence in sentencessplit:\n",
    "    if palindetect(sentence) == True:\n",
    "        palindromes1.append(sentence)\n",
    "\n",
    "#using list comprehension\n",
    "palindromes2 = [sentence for sentence in sentencessplit if palindetect(sentence)]\n",
    "\n",
    "\n",
    "#using filter higher order function\n",
    "palindromes3 = list(filter(lambda x:palindetect(x) == True,sentencessplit))\n",
    "\n",
    "print(palindromes1)\n",
    "print(palindromes2)\n",
    "print(palindromes3)\n"
   ]
  },
  {
   "cell_type": "markdown",
   "metadata": {},
   "source": [
    "**3**. (10 points)\n",
    "\n",
    "Sort the same sentences in decreasing order of the number of vowels they contain."
   ]
  },
  {
   "cell_type": "code",
   "execution_count": 148,
   "metadata": {},
   "outputs": [
    {
     "name": "stdout",
     "output_type": "stream",
     "text": [
      "['Doc, Note: I Dissent. A Fast Never Prevents A Fatness. I Diet On Cod.', 'Do you think this is a palindrome?', 'Eva, Can I Stab Bats In A Cave?', 'This is not a palindrome.', \"Madam In Eden, I'm Adam\", 'Mr. Owl Ate My Metal Worm', 'Never Odd Or Even', 'Neither is this.', 'Ouch! That hurts!!', 'Pythons eat rats.']\n"
     ]
    }
   ],
   "source": [
    "#strip and split sentences\n",
    "sentencessplit = sentences.strip().split('\\n')\n",
    "#change all elements to lowercase\n",
    "sentencesnewlower = [s.lower() for s in sentencessplit]\n",
    "\n",
    "#count number of vowels for each element\n",
    "vowelcount = {}\n",
    "for index,sentence in enumerate(sentencesnewlower):\n",
    "    vowelcount.update({index:sentence.count('a') + sentence.count('e') + sentence.count('i') + sentence.count('o') + sentence.count('u')})\n",
    "\n",
    "#sort the index of element based on number of vowels each element contain\n",
    "vowelcount = sorted(vowelcount.items(),key=lambda x: x[1], reverse=True)\n",
    "\n",
    "#put sentences in new order\n",
    "sortedsentences = []\n",
    "for element in vowelcount:\n",
    "    sortedsentences.append(sentencessplit[element[0]])\n",
    "\n",
    "print(sortedsentences)"
   ]
  },
  {
   "cell_type": "markdown",
   "metadata": {},
   "source": [
    "**4**. (10 points) \n",
    "\n",
    "Count the number of times each word occurs in the `sentences` variable. Ignore punctuation and capitalization. Show the top 3 words together with their counts."
   ]
  },
  {
   "cell_type": "code",
   "execution_count": 149,
   "metadata": {},
   "outputs": [
    {
     "name": "stdout",
     "output_type": "stream",
     "text": [
      "[('a', 5), ('i', 3), ('this', 3), ('is', 3), ('in', 2), ('palindrome', 2), ('never', 2)]\n"
     ]
    }
   ],
   "source": [
    "#break down sentences in to vocabularies\n",
    "vocab = sentences.translate(str.maketrans(string.ascii_uppercase,string.ascii_lowercase,string.punctuation)).split()\n",
    "\n",
    "#count occurence of each vocabulary\n",
    "wordcount = {}\n",
    "for word in vocab:\n",
    "    if word not in wordcount.keys():\n",
    "        wordcount.update({word:vocab.count(word)})\n",
    "        pass\n",
    "    else:\n",
    "        pass\n",
    "    pass\n",
    "\n",
    "#sort the vocabulary based on frequency of occurrence\n",
    "wordcount = sorted(wordcount.items(),key = lambda x: x[1], reverse = True)\n",
    "\n",
    "#print words of top 3 frequencies together with their counts\n",
    "print([x for x in wordcount if x[1]>1])\n",
    "        \n"
   ]
  },
  {
   "cell_type": "markdown",
   "metadata": {},
   "source": [
    "**5**. (10 points)\n",
    "\n",
    "Convert the variable sentences into a string with no spaces or punctuation and all in lower case. Now find the most commonly occurring pair of characters (the character pairs in `abcde` are `ab`, `bc`, `cd`, `de`)."
   ]
  },
  {
   "cell_type": "code",
   "execution_count": 152,
   "metadata": {},
   "outputs": [
    {
     "name": "stdout",
     "output_type": "stream",
     "text": [
      "('is', 8)\n",
      "('th', 8)\n"
     ]
    }
   ],
   "source": [
    "#change to lower case and remove punctuation\n",
    "sentencesclean = sentences.translate(str.maketrans(string.ascii_uppercase, string.ascii_lowercase,string.punctuation))\n",
    "\n",
    "#remove white spaces\n",
    "sentencesclean = ''.join(sentencesclean.strip().split(' '))\n",
    "\n",
    "#remove \\n\n",
    "sentencesclean = ''.join(sentencesclean.strip().split('\\n'))\n",
    "\n",
    "#count frequency of pairs\n",
    "paircount = {}\n",
    "for i in range(len(sentencesclean)-1):\n",
    "    pair = sentencesclean[i:i+2]\n",
    "    if pair not in paircount.keys():\n",
    "        paircount.update({pair:sentencesclean.count(pair)})\n",
    "        pass\n",
    "    else:\n",
    "        pass\n",
    "    pass\n",
    "\n",
    "#sort\n",
    "paircount = sorted(paircount.items(),key = lambda x: x[1], reverse = True)\n",
    "\n",
    "#print most commonly occuring pairs\n",
    "for element in paircount:\n",
    "    if element[1] == paircount[0][1]:\n",
    "        print(element)\n"
   ]
  },
  {
   "cell_type": "markdown",
   "metadata": {},
   "source": [
    "**6**. (10 points)\n",
    "\n",
    "- Save the palindromes found in **1** to a file `data/palindromes.txt` with each palindrome in its own line.\n",
    "- Read the file `data/palindromes.txt` and display the lines formatted so that\n",
    "    - the longest line is printed as is\n",
    "    - all other lines are right-aligned to the longest line"
   ]
  },
  {
   "cell_type": "code",
   "execution_count": 180,
   "metadata": {},
   "outputs": [
    {
     "name": "stdout",
     "output_type": "stream",
     "text": [
      "Doc, Note: I Dissent. A Fast Never Prevents A Fatness. I Diet On Cod.\n",
      "                                      Eva, Can I Stab Bats In A Cave?\n",
      "                                            Mr. Owl Ate My Metal Worm\n",
      "                                              Madam In Eden, I'm Adam\n",
      "                                                    Never Odd Or Even\n"
     ]
    }
   ],
   "source": [
    "#change each palindrome in its own line\n",
    "palindromenew = '\\n'.join(palindromes1)\n",
    "\n",
    "#save palindrome in a file\n",
    "with open('data/palindromes.txt', 'w') as f:\n",
    "    f.write(palindromenew)\n",
    "    \n",
    "#read the file\n",
    "with open('data/palindromes.txt','r') as r:\n",
    "    content = r.read()\n",
    "\n",
    "#find length for each element\n",
    "content = content.strip().split('\\n')\n",
    "length={}\n",
    "for index,element in enumerate(content):\n",
    "    length.update({index:len(element)})\n",
    "\n",
    "#sort index based on length\n",
    "length = sorted(length.items(),key = lambda x: x[1], reverse = True)\n",
    "\n",
    "#print formatted\n",
    "for i in range(len(length)):\n",
    "    if i==0:\n",
    "        print(content[length[i][0]])\n",
    "        space=length[i][1]\n",
    "    else:\n",
    "        print('{0:>{space}}'.format(content[length[i][0]],space=space))\n",
    "    \n"
   ]
  },
  {
   "cell_type": "markdown",
   "metadata": {},
   "source": [
    "**7**. (20 points)\n",
    "\n",
    "- Write a function called `encode` that uses the simple Caesar cipher with offset of $k$. A Caesar cipher moves a character $k$ positions forward with wraparound - an offset of 2 would give `a -> c, b -> d, ..., y -> a, z -> b`. \n",
    "\n",
    "The encoder should preserve punctuation, spaces and the case of the characters as in the example below for an offset of 13.\n",
    "\n",
    "```\n",
    "(original) Why did the chicken cross the road?\n",
    "(encoded) Jul qvq gur puvpxra pebff gur ebnq?\n",
    "```\n",
    "\n",
    "Write a function to encode and decode text using a Caesar cipher with an offset of 5 and test it on the `Why did the chicken cross the road?`"
   ]
  },
  {
   "cell_type": "code",
   "execution_count": 182,
   "metadata": {},
   "outputs": [
    {
     "name": "stdout",
     "output_type": "stream",
     "text": [
      "Jul qvq gur puvpxra pebff gur ebnq?\n",
      "Why did the chicken cross the road?\n"
     ]
    }
   ],
   "source": [
    "def encode(string, offset):\n",
    "    string = list(string)\n",
    "    for i in range(len(string)):\n",
    "        if string[i] !=\" \" and string[i] != \"\\n\":\n",
    "            if string[i].isupper():\n",
    "                string[i] = chr(ord('A') + ((ord(string[i]) + offset - ord('A')) % 26))\n",
    "            elif string[i].islower():\n",
    "                string[i] = chr(ord('a') + ((ord(string[i]) + offset - ord('a')) % 26))\n",
    "    string = ''.join(string)\n",
    "    return string\n",
    "\n",
    "def decode(string, offset):\n",
    "    string = list(string)\n",
    "    for i in range(len(string)):\n",
    "        if string[i] !=\" \" and string[i] != \"\\n\":\n",
    "            if string[i].isupper():\n",
    "                string[i] = chr(ord('A') + ((ord(string[i]) - offset - ord('A')) % 26))\n",
    "            elif string[i].islower():\n",
    "                string[i] = chr(ord('a') + ((ord(string[i]) - offset - ord('a')) % 26))\n",
    "    string = ''.join(string)\n",
    "    return string\n",
    "\n",
    "print(encode(\"Why did the chicken cross the road?\",13))\n",
    "print(decode(\"Jul qvq gur puvpxra pebff gur ebnq?\",13))"
   ]
  },
  {
   "cell_type": "markdown",
   "metadata": {},
   "source": [
    "**8**. (20 points)\n",
    "\n",
    "A one-time pad is the same as a Caesar cipher, except that each character is given a random offset (the pad contains a list of offsets). Without the pad, the cipher is unbreakable. Write a function to encode and decode using the one-time pad of offsets provided in `data/pad.txt`. As usual, the encoder should ignore punctuation and spaces but preserve the case of the characters."
   ]
  },
  {
   "cell_type": "code",
   "execution_count": 205,
   "metadata": {},
   "outputs": [
    {
     "name": "stdout",
     "output_type": "stream",
     "text": [
      "Sgy it clg,vixzyh tl ishvgtdlu?nunyp snxzdoi vqkwghh NUK-cvlijt xbj krw-GZC zjlzni ipgi Gbjy clgom foq crpdbh tu tjsirzi tjxs-weo pcs vun cqpvse dr lqxy eanxvcu zbk rqkba ztg uhyo thxfv Bplq fb ijt ghlky gxdm ojtal hkzjz OHY-rwsoiul eg q pby yv eofr akyrg\n",
      "How do the,number of completed?tests compare between DNA-tested and non-DNA tested dogs What about the number of account sign-ins and the amount of time between the first and last games What do you think this means about DNA-testing as a way to love ourse\n"
     ]
    }
   ],
   "source": [
    "with open('data/pad.txt', 'r') as f:\n",
    "    offsets = f.read()\n",
    "\n",
    "offsets = offsets.strip().split('\\n')\n",
    "\n",
    "punctuation = string.punctuation\n",
    "\n",
    "def encode(string, offsets):\n",
    "    string = list(string)\n",
    "    j=0\n",
    "    for i in range(len(string)):\n",
    "        if string[i] !=\" \" and string[i] != \"\\n\" and string[i] not in punctuation:\n",
    "            if string[i].isupper():\n",
    "                string[i] = chr(ord('A') + ((ord(string[i]) + int(offsets[j]) - ord('A')) % 26))\n",
    "            elif string[i].islower():\n",
    "                string[i] = chr(ord('a') + ((ord(string[i]) + int(offsets[j]) - ord('a')) % 26))\n",
    "            j=j+1\n",
    "    string = ''.join(string)\n",
    "    return string\n",
    "\n",
    "def decode(string, offsets):\n",
    "    string = list(string)\n",
    "    q=0\n",
    "    for i in range(len(string)):\n",
    "        if string[i] !=\" \" and string[i] != \"\\n\" and string[i] not in punctuation:\n",
    "            if string[i].isupper():\n",
    "                string[i] = chr(ord('A') + ((ord(string[i]) - int(offsets[q]) - ord('A')) % 26))\n",
    "            elif string[i].islower():\n",
    "                string[i] = chr(ord('a') + ((ord(string[i]) - int(offsets[q])- ord('a')) % 26))\n",
    "            q=q+1\n",
    "    string = ''.join(string)\n",
    "    return string\n",
    "\n",
    "print(encode(\"How do the,number of completed?tests compare between DNA-tested and non-DNA tested dogs What about the number of account sign-ins and the amount of time between the first and last games What do you think this means about DNA-testing as a way to love ourse\",offsets))\n",
    "print(decode(\"Sgy it clg,vixzyh tl ishvgtdlu?nunyp snxzdoi vqkwghh NUK-cvlijt xbj krw-GZC zjlzni ipgi Gbjy clgom foq crpdbh tu tjsirzi tjxs-weo pcs vun cqpvse dr lqxy eanxvcu zbk rqkba ztg uhyo thxfv Bplq fb ijt ghlky gxdm ojtal hkzjz OHY-rwsoiul eg q pby yv eofr akyrg\",offsets))\n"
   ]
  }
 ],
 "metadata": {
  "kernelspec": {
   "display_name": "Python 3",
   "language": "python",
   "name": "python3"
  },
  "language_info": {
   "codemirror_mode": {
    "name": "ipython",
    "version": 3
   },
   "file_extension": ".py",
   "mimetype": "text/x-python",
   "name": "python",
   "nbconvert_exporter": "python",
   "pygments_lexer": "ipython3",
   "version": "3.6.5"
  }
 },
 "nbformat": 4,
 "nbformat_minor": 2
}
